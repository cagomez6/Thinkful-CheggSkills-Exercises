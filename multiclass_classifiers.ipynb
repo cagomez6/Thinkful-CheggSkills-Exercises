{
 "cells": [
  {
   "cell_type": "code",
   "execution_count": 7,
   "id": "4494cdc3-e09b-4392-859a-1a1eaf3ac1cb",
   "metadata": {},
   "outputs": [],
   "source": [
    "# Load the data\n",
    "from sklearn.datasets import load_digits\n",
    "from sklearn.model_selection import train_test_split\n",
    "from sklearn.linear_model import LogisticRegression\n",
    "from sklearn.ensemble import RandomForestClassifier\n",
    "from sklearn.model_selection import cross_val_score\n",
    "import numpy as np"
   ]
  },
  {
   "cell_type": "code",
   "execution_count": 6,
   "id": "48746315-6db9-418b-8a4a-5273bb24e554",
   "metadata": {},
   "outputs": [],
   "source": [
    "# Load the digits dataset\n",
    "X, y = load_digits(return_X_y=True)"
   ]
  },
  {
   "cell_type": "code",
   "execution_count": 8,
   "id": "b1e78476-61c3-46c5-a7ea-32acefe49219",
   "metadata": {},
   "outputs": [],
   "source": [
    "# Exploratory data analysis\n",
    "num_rows = X.shape[0]\n",
    "num_features = X.shape[1]\n",
    "class_counts = np.bincount(y)"
   ]
  },
  {
   "cell_type": "code",
   "execution_count": 9,
   "id": "14d46162-c765-4394-953e-ca772a49940a",
   "metadata": {},
   "outputs": [
    {
     "name": "stdout",
     "output_type": "stream",
     "text": [
      "The number of rows in the dataset is 1797\n",
      "The number of features in the dataset is 64\n",
      "Class distribution in the dataset:\n",
      "[178 182 177 183 181 182 181 179 174 180]\n"
     ]
    }
   ],
   "source": [
    "print('The number of rows in the dataset is {:d}'.format(num_rows))\n",
    "print('The number of features in the dataset is {:d}'.format(num_features))\n",
    "print('Class distribution in the dataset:')\n",
    "print(class_counts)"
   ]
  },
  {
   "cell_type": "markdown",
   "id": "73be2d2d-8653-497b-9115-2400dea8c393",
   "metadata": {},
   "source": [
    "The dataset seems to have a balanced bin, meaning it is a <b>balanced dataset</b>."
   ]
  },
  {
   "cell_type": "code",
   "execution_count": 12,
   "id": "a6079c1d-30da-478d-896c-0c36a02000ef",
   "metadata": {},
   "outputs": [],
   "source": [
    "# Prepare training and testing data\n",
    "X_train, X_test, y_train, y_test = train_test_split(X, y, test_size=0.2, random_state=42)"
   ]
  },
  {
   "cell_type": "code",
   "execution_count": 13,
   "id": "1c092ff3-9942-4c4e-8dbe-f3f2461315e3",
   "metadata": {},
   "outputs": [],
   "source": [
    "# Cross-validation with logistic regression\n",
    "lr_clf = LogisticRegression(solver='lbfgs', max_iter=1000, multi_class='ovr')\n",
    "lr_cv_scores = cross_val_score(lr_clf, X_train, y_train, cv=5)"
   ]
  },
  {
   "cell_type": "code",
   "execution_count": 14,
   "id": "b3675a27-479f-4916-8f14-bcb627527941",
   "metadata": {},
   "outputs": [
    {
     "name": "stdout",
     "output_type": "stream",
     "text": [
      "Accuracy scores for the 5 folds:  [0.96527778 0.95486111 0.94773519 0.95121951 0.91637631]\n",
      "Mean cross-validation score: 0.947\n"
     ]
    }
   ],
   "source": [
    "print('Accuracy scores for the 5 folds: ', lr_cv_scores)\n",
    "print('Mean cross-validation score: {:.3f}'.format(np.mean(lr_cv_scores)))"
   ]
  },
  {
   "cell_type": "code",
   "execution_count": 15,
   "id": "c43a1576-88ee-4b6b-bb3a-de9b0a1b572b",
   "metadata": {},
   "outputs": [],
   "source": [
    "rf_clf = RandomForestClassifier(n_estimators=24)\n",
    "rf_cv_scores = cross_val_score(rf_clf, X_train, y_train, cv=5)"
   ]
  },
  {
   "cell_type": "code",
   "execution_count": 16,
   "id": "e23cb1d1-c924-4666-bc4d-bd3ad973570f",
   "metadata": {},
   "outputs": [
    {
     "name": "stdout",
     "output_type": "stream",
     "text": [
      "Accuracy scores for the 5 folds:  [0.97222222 0.95486111 0.94773519 0.97560976 0.96515679]\n",
      "Mean cross-validation score: 0.963\n"
     ]
    }
   ],
   "source": [
    "print('Accuracy scores for the 5 folds: ', rf_cv_scores)\n",
    "print('Mean cross-validation score: {:.3f}'.format(np.mean(rf_cv_scores)))"
   ]
  },
  {
   "cell_type": "code",
   "execution_count": null,
   "id": "fe825fc3-b74a-4e79-a81c-5ee233e32d2d",
   "metadata": {},
   "outputs": [],
   "source": []
  }
 ],
 "metadata": {
  "kernelspec": {
   "display_name": "Python 3 (ipykernel)",
   "language": "python",
   "name": "python3"
  },
  "language_info": {
   "codemirror_mode": {
    "name": "ipython",
    "version": 3
   },
   "file_extension": ".py",
   "mimetype": "text/x-python",
   "name": "python",
   "nbconvert_exporter": "python",
   "pygments_lexer": "ipython3",
   "version": "3.11.5"
  }
 },
 "nbformat": 4,
 "nbformat_minor": 5
}
