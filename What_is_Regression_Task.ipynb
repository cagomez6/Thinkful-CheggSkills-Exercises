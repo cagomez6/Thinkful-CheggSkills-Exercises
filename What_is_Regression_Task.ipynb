{
 "cells": [
  {
   "cell_type": "markdown",
   "id": "3e9f8cd3-4477-4bc2-9835-48e54fb1b653",
   "metadata": {},
   "source": [
    "1. Assume that you have World Bank data on financial, economic, and social indicators for several countries. You want to measure the factors that affect the level of development in these countries. To this end, you decide to use per capita income as a proxy for the development level, which is defined as the national income divided by the population. You want to use some features in your dataset to predict per capita income. Is this task a classification or a regression task? Why?"
   ]
  },
  {
   "cell_type": "markdown",
   "id": "1a45baf7-3dab-46e6-a772-fc1675a541b1",
   "metadata": {},
   "source": [
    "This task seems like it would be a regression task because it is not something that could be easily categorized into groups such as Excellent, Good, Bad, Etc. Rather, we would need a numerical relationship between income and population which can result in many numerical possibilities (decimals)."
   ]
  },
  {
   "cell_type": "code",
   "execution_count": null,
   "id": "dfa7dbe7-7b51-4d2c-b6a0-169b73bd65b8",
   "metadata": {},
   "outputs": [],
   "source": []
  },
  {
   "cell_type": "markdown",
   "id": "64563674-9767-4331-87a2-29556efad069",
   "metadata": {},
   "source": [
    "2. Which of the following arguments are false and why?\n",
    "\n",
    "<ol>\r",
    "    <li>\n",
    "OLS is a special type of linear regression model</li>.    <li>\r\n",
    "Regression models become useless if they don't meet the assumptions of linear regressio</li>n    <li>.\r\n",
    "Estimation and prediction are the same things in the context of linear regression mode</li>l    <li>s.\r\n",
    "Linear regression is only one kind of regression model. Regression problems can also be solved with other kinds of models like support vector machines or random fore</li>\n",
    "</ol>sts."
   ]
  },
  {
   "cell_type": "markdown",
   "id": "f1e75157-6cce-4484-9ef6-085390f1fe36",
   "metadata": {},
   "source": [
    "- First one is false because it is an algorithm for a regression model\n",
    "- This is false, it is possible to work around these assumptions and fix a model prior to using regression.\n",
    "- This is false because estimation has to do with the process of training while prediction is related with the actual output of the variable.\n",
    "- This is true because there are different models that could be none linear etc."
   ]
  },
  {
   "cell_type": "code",
   "execution_count": null,
   "id": "0753946c-17ca-407f-af50-934cb2760b3e",
   "metadata": {},
   "outputs": [],
   "source": []
  },
  {
   "cell_type": "markdown",
   "id": "2b0f73f9-cb2e-4889-9405-9143fdc8202a",
   "metadata": {},
   "source": [
    "3. Assume that your project manager wants you to discover which free services your company offers make your customers buy more of your paid services. Formulate this task as a regression problem and write down the potential outcome and features that you’d like to work on."
   ]
  },
  {
   "cell_type": "markdown",
   "id": "04ccc35f-6b8a-47e8-b3cc-33fd7cab5e5a",
   "metadata": {},
   "source": [
    "I would formulate this task as a regression problem by using the services as the variable in the regression function A + BX + E. This would allow me to see the relationship between the services and the amount that customers spend on paid services."
   ]
  },
  {
   "cell_type": "code",
   "execution_count": null,
   "id": "845c8b3a-6ba3-4f5d-85d9-e8ff8527e6ac",
   "metadata": {},
   "outputs": [],
   "source": []
  },
  {
   "cell_type": "markdown",
   "id": "ced87c88-b03b-4aad-a1fe-0fff1bf71a4e",
   "metadata": {},
   "source": [
    "<ol>\n",
    "<li>The model is correctly specified.</li>\r",
    "<li>\n",
    "The error term has a mean of 0 (a consequence of the exogeneity assumption)</li>.<li>\r\n",
    "The error term is uncorrelated with the regressors (also a consequence of the exogeneity assumption</li>)<li>.\r\n",
    "The error term has constant variance across all observations (in other words, there's homoscedasticit</li>y<li>).\r\n",
    "The errors are uncorrelated between observations (in other words, there's no autocorrelati</li>o<li>n).\r\n",
    "The predictors are linearly independent (in other words, there's no perfect multicollinear</li>ity).</li>\n",
    "</ol>"
   ]
  },
  {
   "cell_type": "markdown",
   "id": "9d9cab35-ea49-4338-88bd-f4ee52102d37",
   "metadata": {},
   "source": [
    "Assumptions above"
   ]
  },
  {
   "cell_type": "code",
   "execution_count": null,
   "id": "51459221-b934-4295-95e3-363dcc02cba0",
   "metadata": {},
   "outputs": [],
   "source": []
  }
 ],
 "metadata": {
  "kernelspec": {
   "display_name": "Python 3 (ipykernel)",
   "language": "python",
   "name": "python3"
  },
  "language_info": {
   "codemirror_mode": {
    "name": "ipython",
    "version": 3
   },
   "file_extension": ".py",
   "mimetype": "text/x-python",
   "name": "python",
   "nbconvert_exporter": "python",
   "pygments_lexer": "ipython3",
   "version": "3.11.5"
  }
 },
 "nbformat": 4,
 "nbformat_minor": 5
}
