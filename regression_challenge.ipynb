{
 "cells": [
  {
   "cell_type": "code",
   "execution_count": 1,
   "id": "f399234a-e238-4eb4-a4e4-b377417dbd87",
   "metadata": {},
   "outputs": [],
   "source": [
    "import numpy as np\n",
    "import pandas as pd\n",
    "import matplotlib.pyplot as plt\n",
    "from sqlalchemy import create_engine\n",
    "from sklearn.model_selection import train_test_split, cross_val_score\n",
    "from sklearn.metrics import mean_absolute_error\n",
    "from statsmodels.tools.eval_measures import mse, rmse\n",
    "from sklearn.linear_model import LinearRegression, LassoCV, RidgeCV, ElasticNetCV\n",
    "\n",
    "import warnings\n",
    "warnings.filterwarnings('ignore')"
   ]
  },
  {
   "cell_type": "code",
   "execution_count": 2,
   "id": "734a53d4-ea56-4a17-a411-635626f9188a",
   "metadata": {},
   "outputs": [],
   "source": [
    "postgres_user = 'dsbc_student'\n",
    "postgres_pw = '7*.8G9QH21'\n",
    "postgres_host = '142.93.121.174'\n",
    "postgres_port = '5432'\n",
    "postgres_db = 'houseprices'"
   ]
  },
  {
   "cell_type": "code",
   "execution_count": 3,
   "id": "3a91c4a4-9a6e-4e03-ab51-54e38ce0f6fb",
   "metadata": {},
   "outputs": [],
   "source": [
    "engine = create_engine('postgresql://{}:{}@{}:{}/{}'.format(\n",
    "    postgres_user, postgres_pw, postgres_host, postgres_port, postgres_db))\n",
    "house_prices_df = pd.read_sql_query('select * from houseprices',con=engine)\n",
    "\n",
    "# no need for an open connection, as we're only doing a single query\n",
    "engine.dispose()"
   ]
  },
  {
   "cell_type": "code",
   "execution_count": 4,
   "id": "fbe8acd9-1557-4448-8cb7-76186fa26ae6",
   "metadata": {},
   "outputs": [
    {
     "name": "stdout",
     "output_type": "stream",
     "text": [
      "(1460, 81)\n"
     ]
    }
   ],
   "source": [
    "print(house_prices_df.shape)"
   ]
  },
  {
   "cell_type": "code",
   "execution_count": 5,
   "id": "3efd90d0-399a-45e9-b028-a4248fbda063",
   "metadata": {},
   "outputs": [
    {
     "name": "stdout",
     "output_type": "stream",
     "text": [
      "<class 'pandas.core.frame.DataFrame'>\n",
      "RangeIndex: 1460 entries, 0 to 1459\n",
      "Data columns (total 81 columns):\n",
      " #   Column         Non-Null Count  Dtype  \n",
      "---  ------         --------------  -----  \n",
      " 0   id             1460 non-null   int64  \n",
      " 1   mssubclass     1460 non-null   int64  \n",
      " 2   mszoning       1460 non-null   object \n",
      " 3   lotfrontage    1201 non-null   float64\n",
      " 4   lotarea        1460 non-null   int64  \n",
      " 5   street         1460 non-null   object \n",
      " 6   alley          91 non-null     object \n",
      " 7   lotshape       1460 non-null   object \n",
      " 8   landcontour    1460 non-null   object \n",
      " 9   utilities      1460 non-null   object \n",
      " 10  lotconfig      1460 non-null   object \n",
      " 11  landslope      1460 non-null   object \n",
      " 12  neighborhood   1460 non-null   object \n",
      " 13  condition1     1460 non-null   object \n",
      " 14  condition2     1460 non-null   object \n",
      " 15  bldgtype       1460 non-null   object \n",
      " 16  housestyle     1460 non-null   object \n",
      " 17  overallqual    1460 non-null   int64  \n",
      " 18  overallcond    1460 non-null   int64  \n",
      " 19  yearbuilt      1460 non-null   int64  \n",
      " 20  yearremodadd   1460 non-null   int64  \n",
      " 21  roofstyle      1460 non-null   object \n",
      " 22  roofmatl       1460 non-null   object \n",
      " 23  exterior1st    1460 non-null   object \n",
      " 24  exterior2nd    1460 non-null   object \n",
      " 25  masvnrtype     1452 non-null   object \n",
      " 26  masvnrarea     1452 non-null   float64\n",
      " 27  exterqual      1460 non-null   object \n",
      " 28  extercond      1460 non-null   object \n",
      " 29  foundation     1460 non-null   object \n",
      " 30  bsmtqual       1423 non-null   object \n",
      " 31  bsmtcond       1423 non-null   object \n",
      " 32  bsmtexposure   1422 non-null   object \n",
      " 33  bsmtfintype1   1423 non-null   object \n",
      " 34  bsmtfinsf1     1460 non-null   int64  \n",
      " 35  bsmtfintype2   1422 non-null   object \n",
      " 36  bsmtfinsf2     1460 non-null   int64  \n",
      " 37  bsmtunfsf      1460 non-null   int64  \n",
      " 38  totalbsmtsf    1460 non-null   int64  \n",
      " 39  heating        1460 non-null   object \n",
      " 40  heatingqc      1460 non-null   object \n",
      " 41  centralair     1460 non-null   object \n",
      " 42  electrical     1459 non-null   object \n",
      " 43  firstflrsf     1460 non-null   int64  \n",
      " 44  secondflrsf    1460 non-null   int64  \n",
      " 45  lowqualfinsf   1460 non-null   int64  \n",
      " 46  grlivarea      1460 non-null   int64  \n",
      " 47  bsmtfullbath   1460 non-null   int64  \n",
      " 48  bsmthalfbath   1460 non-null   int64  \n",
      " 49  fullbath       1460 non-null   int64  \n",
      " 50  halfbath       1460 non-null   int64  \n",
      " 51  bedroomabvgr   1460 non-null   int64  \n",
      " 52  kitchenabvgr   1460 non-null   int64  \n",
      " 53  kitchenqual    1460 non-null   object \n",
      " 54  totrmsabvgrd   1460 non-null   int64  \n",
      " 55  functional     1460 non-null   object \n",
      " 56  fireplaces     1460 non-null   int64  \n",
      " 57  fireplacequ    770 non-null    object \n",
      " 58  garagetype     1379 non-null   object \n",
      " 59  garageyrblt    1379 non-null   float64\n",
      " 60  garagefinish   1379 non-null   object \n",
      " 61  garagecars     1460 non-null   int64  \n",
      " 62  garagearea     1460 non-null   int64  \n",
      " 63  garagequal     1379 non-null   object \n",
      " 64  garagecond     1379 non-null   object \n",
      " 65  paveddrive     1460 non-null   object \n",
      " 66  wooddecksf     1460 non-null   int64  \n",
      " 67  openporchsf    1460 non-null   int64  \n",
      " 68  enclosedporch  1460 non-null   int64  \n",
      " 69  threessnporch  1460 non-null   int64  \n",
      " 70  screenporch    1460 non-null   int64  \n",
      " 71  poolarea       1460 non-null   int64  \n",
      " 72  poolqc         7 non-null      object \n",
      " 73  fence          281 non-null    object \n",
      " 74  miscfeature    54 non-null     object \n",
      " 75  miscval        1460 non-null   int64  \n",
      " 76  mosold         1460 non-null   int64  \n",
      " 77  yrsold         1460 non-null   int64  \n",
      " 78  saletype       1460 non-null   object \n",
      " 79  salecondition  1460 non-null   object \n",
      " 80  saleprice      1460 non-null   int64  \n",
      "dtypes: float64(3), int64(35), object(43)\n",
      "memory usage: 924.0+ KB\n"
     ]
    }
   ],
   "source": [
    "house_prices_df.info()"
   ]
  },
  {
   "cell_type": "code",
   "execution_count": 6,
   "id": "46f2e107-b1fa-48d4-ae9f-1487ecbc0e8d",
   "metadata": {},
   "outputs": [
    {
     "name": "stdout",
     "output_type": "stream",
     "text": [
      "Number of numeric columns: 38\n"
     ]
    }
   ],
   "source": [
    "numeric_columns = house_prices_df.select_dtypes(include=['number'])\n",
    "\n",
    "# Count the number of numeric columns\n",
    "num_numeric_columns = numeric_columns.shape[1]\n",
    "\n",
    "print(f\"Number of numeric columns: {num_numeric_columns}\")"
   ]
  },
  {
   "cell_type": "code",
   "execution_count": 7,
   "id": "a52e3a25-3836-44af-929b-4b91c744a395",
   "metadata": {},
   "outputs": [
    {
     "name": "stdout",
     "output_type": "stream",
     "text": [
      "Columns with missing values:\n",
      "['lotfrontage', 'alley', 'masvnrtype', 'masvnrarea', 'bsmtqual', 'bsmtcond', 'bsmtexposure', 'bsmtfintype1', 'bsmtfintype2', 'electrical', 'fireplacequ', 'garagetype', 'garageyrblt', 'garagefinish', 'garagequal', 'garagecond', 'poolqc', 'fence', 'miscfeature']\n"
     ]
    }
   ],
   "source": [
    "# Check which columns have missing values\n",
    "columns_with_missing = house_prices_df.columns[house_prices_df.isnull().any()].tolist()\n",
    "\n",
    "print(\"Columns with missing values:\")\n",
    "print(columns_with_missing)"
   ]
  },
  {
   "cell_type": "code",
   "execution_count": 8,
   "id": "bb5ea339-bc72-41c0-adcd-f146d0b8f154",
   "metadata": {},
   "outputs": [
    {
     "data": {
      "image/png": "[encoded data removed]",
      "text/plain": [
       "<Figure size 800x600 with 1 Axes>"
      ]
     },
     "metadata": {},
     "output_type": "display_data"
    }
   ],
   "source": [
    "# Plot the distribution using a histogram\n",
    "plt.figure(figsize=(8, 6))\n",
    "plt.hist(house_prices_df['saleprice'], bins=10)\n",
    "plt.title('Distribution of SalesPrice')\n",
    "plt.xlabel('SalesPrice')\n",
    "plt.ylabel('Frequency')\n",
    "plt.show()"
   ]
  },
  {
   "cell_type": "code",
   "execution_count": 9,
   "id": "5021b181-a0d7-4175-95c0-1daab6da75e4",
   "metadata": {},
   "outputs": [],
   "source": [
    "house_prices_df = pd.concat([house_prices_df,pd.get_dummies(house_prices_df.mszoning, prefix=\"mszoning\", drop_first=True)], axis=1)\n",
    "house_prices_df = pd.concat([house_prices_df,pd.get_dummies(house_prices_df.street, prefix=\"street\", drop_first=True)], axis=1)\n",
    "dummy_column_names = list(pd.get_dummies(house_prices_df.mszoning, prefix=\"mszoning\", drop_first=True).columns)\n",
    "dummy_column_names = dummy_column_names + list(pd.get_dummies(house_prices_df.street, prefix=\"street\", drop_first=True).columns)"
   ]
  },
  {
   "cell_type": "code",
   "execution_count": 10,
   "id": "9b31a036-afb6-4027-82b4-855e7fe8cc2a",
   "metadata": {},
   "outputs": [],
   "source": [
    "house_prices_df['totalsf'] = house_prices_df['totalbsmtsf'] + house_prices_df['firstflrsf'] + house_prices_df['secondflrsf']\n",
    "\n",
    "house_prices_df['int_over_sf'] = house_prices_df['totalsf'] * house_prices_df['overallqual']\n",
    "\n",
    "# Y is the target variable\n",
    "Y = np.log1p(house_prices_df['saleprice'])\n",
    "# X is the feature set\n",
    "X = house_prices_df[['overallqual', 'grlivarea', 'garagecars', 'garagearea', 'totalsf', 'int_over_sf'] + dummy_column_names]\n",
    "\n",
    "X_train, X_test, y_train, y_test = train_test_split(X, Y, test_size = 0.2, random_state = 465)\n",
    "\n",
    "alphas = [np.power(10.0,p) for p in np.arange(-10,40,1)]"
   ]
  },
  {
   "cell_type": "code",
   "execution_count": 11,
   "id": "d48de281-b418-47a0-b36e-ad0e45531b8f",
   "metadata": {},
   "outputs": [
    {
     "name": "stdout",
     "output_type": "stream",
     "text": [
      "R-squared of the model in training set is: 0.8321322553132751\n",
      "-----Test set statistics-----\n",
      "R-squared of the model in test set is: 0.824930233091641\n",
      "Mean absolute error of the prediction is: 0.12570372872861674\n",
      "Mean squared error of the prediction is: 0.02919212187135734\n",
      "Root mean squared error of the prediction is: 0.17085702172096218\n",
      "Mean absolute percentage error of the prediction is: 1.0503577667823727\n"
     ]
    }
   ],
   "source": [
    "lrm = LinearRegression()\n",
    "\n",
    "lrm.fit(X_train, y_train)\n",
    "\n",
    "# We are making predictions here\n",
    "y_preds_train = lrm.predict(X_train)\n",
    "y_preds_test = lrm.predict(X_test)\n",
    "\n",
    "print(\"R-squared of the model in training set is: {}\".format(lrm.score(X_train, y_train)))\n",
    "print(\"-----Test set statistics-----\")\n",
    "print(\"R-squared of the model in test set is: {}\".format(lrm.score(X_test, y_test)))\n",
    "print(\"Mean absolute error of the prediction is: {}\".format(mean_absolute_error(y_test, y_preds_test)))\n",
    "print(\"Mean squared error of the prediction is: {}\".format(mse(y_test, y_preds_test)))\n",
    "print(\"Root mean squared error of the prediction is: {}\".format(rmse(y_test, y_preds_test)))\n",
    "print(\"Mean absolute percentage error of the prediction is: {}\".format(np.mean(np.abs((y_test - y_preds_test) / y_test)) * 100))"
   ]
  },
  {
   "cell_type": "code",
   "execution_count": 12,
   "id": "70f078f4-48a0-41e0-a2ef-d9d8dc55a424",
   "metadata": {},
   "outputs": [
    {
     "name": "stdout",
     "output_type": "stream",
     "text": [
      "Best alpha value is: 0.0001\n",
      "R-squared of the model in training set is: 0.831939428704242\n",
      "-----Test set statistics-----\n",
      "R-squared of the model in test set is: 0.8226434437869412\n",
      "Mean absolute error of the prediction is: 0.12624310826908414\n",
      "Mean squared error of the prediction is: 0.029573434037677038\n",
      "Root mean squared error of the prediction is: 0.17196928225028166\n",
      "Mean absolute percentage error of the prediction is: 1.0552354946577744\n"
     ]
    }
   ],
   "source": [
    "lasso_cv = LassoCV(alphas=alphas, cv=5)\n",
    "\n",
    "lasso_cv.fit(X_train, y_train)\n",
    "\n",
    "# We are making predictions here\n",
    "y_preds_train = lasso_cv.predict(X_train)\n",
    "y_preds_test = lasso_cv.predict(X_test)\n",
    "\n",
    "print(\"Best alpha value is: {}\".format(lasso_cv.alpha_))\n",
    "print(\"R-squared of the model in training set is: {}\".format(lasso_cv.score(X_train, y_train)))\n",
    "print(\"-----Test set statistics-----\")\n",
    "print(\"R-squared of the model in test set is: {}\".format(lasso_cv.score(X_test, y_test)))\n",
    "print(\"Mean absolute error of the prediction is: {}\".format(mean_absolute_error(y_test, y_preds_test)))\n",
    "print(\"Mean squared error of the prediction is: {}\".format(mse(y_test, y_preds_test)))\n",
    "print(\"Root mean squared error of the prediction is: {}\".format(rmse(y_test, y_preds_test)))\n",
    "print(\"Mean absolute percentage error of the prediction is: {}\".format(np.mean(np.abs((y_test - y_preds_test) / y_test)) * 100))"
   ]
  },
  {
   "cell_type": "code",
   "execution_count": 13,
   "id": "e5bf9435-433b-4b96-aeb7-4573598e847b",
   "metadata": {},
   "outputs": [
    {
     "name": "stdout",
     "output_type": "stream",
     "text": [
      "Best alpha value is: 1.0\n",
      "R-squared of the model in training set is: 0.8316364867222636\n",
      "-----Test set statistics-----\n",
      "R-squared of the model in test set is: 0.8203050076234273\n",
      "Mean absolute error of the prediction is: 0.12673637339741084\n",
      "Mean squared error of the prediction is: 0.029963358092979068\n",
      "Root mean squared error of the prediction is: 0.17309927236409478\n",
      "Mean absolute percentage error of the prediction is: 1.0596941230310686\n"
     ]
    }
   ],
   "source": [
    "ridge_cv = RidgeCV(alphas=alphas, cv=5)\n",
    "\n",
    "ridge_cv.fit(X_train, y_train)\n",
    "\n",
    "# We are making predictions here\n",
    "y_preds_train = ridge_cv.predict(X_train)\n",
    "y_preds_test = ridge_cv.predict(X_test)\n",
    "\n",
    "print(\"Best alpha value is: {}\".format(ridge_cv.alpha_))\n",
    "print(\"R-squared of the model in training set is: {}\".format(ridge_cv.score(X_train, y_train)))\n",
    "print(\"-----Test set statistics-----\")\n",
    "print(\"R-squared of the model in test set is: {}\".format(ridge_cv.score(X_test, y_test)))\n",
    "print(\"Mean absolute error of the prediction is: {}\".format(mean_absolute_error(y_test, y_preds_test)))\n",
    "print(\"Mean squared error of the prediction is: {}\".format(mse(y_test, y_preds_test)))\n",
    "print(\"Root mean squared error of the prediction is: {}\".format(rmse(y_test, y_preds_test)))\n",
    "print(\"Mean absolute percentage error of the prediction is: {}\".format(np.mean(np.abs((y_test - y_preds_test) / y_test)) * 100))"
   ]
  },
  {
   "cell_type": "code",
   "execution_count": 14,
   "id": "ecc64e9b-5c0a-443f-a734-103616db9d62",
   "metadata": {},
   "outputs": [
    {
     "name": "stdout",
     "output_type": "stream",
     "text": [
      "Best alpha value is: 0.001\n",
      "R-squared of the model in training set is: 0.8299654806803801\n",
      "-----Test set statistics-----\n",
      "R-squared of the model in test set is: 0.8149185869526183\n",
      "Mean absolute error of the prediction is: 0.12770726087011366\n",
      "Mean squared error of the prediction is: 0.03086152030253385\n",
      "Root mean squared error of the prediction is: 0.17567447254092966\n",
      "Mean absolute percentage error of the prediction is: 1.068544489730312\n"
     ]
    }
   ],
   "source": [
    "elasticnet_cv = ElasticNetCV(alphas=alphas, cv=5)\n",
    "\n",
    "elasticnet_cv.fit(X_train, y_train)\n",
    "\n",
    "# We are making predictions here\n",
    "y_preds_train = elasticnet_cv.predict(X_train)\n",
    "y_preds_test = elasticnet_cv.predict(X_test)\n",
    "\n",
    "print(\"Best alpha value is: {}\".format(elasticnet_cv.alpha_))\n",
    "print(\"R-squared of the model in training set is: {}\".format(elasticnet_cv.score(X_train, y_train)))\n",
    "print(\"-----Test set statistics-----\")\n",
    "print(\"R-squared of the model in test set is: {}\".format(elasticnet_cv.score(X_test, y_test)))\n",
    "print(\"Mean absolute error of the prediction is: {}\".format(mean_absolute_error(y_test, y_preds_test)))\n",
    "print(\"Mean squared error of the prediction is: {}\".format(mse(y_test, y_preds_test)))\n",
    "print(\"Root mean squared error of the prediction is: {}\".format(rmse(y_test, y_preds_test)))\n",
    "print(\"Mean absolute percentage error of the prediction is: {}\".format(np.mean(np.abs((y_test - y_preds_test) / y_test)) * 100))"
   ]
  },
  {
   "cell_type": "markdown",
   "id": "c6f36966-2510-4e46-b0df-e82c588a4909",
   "metadata": {},
   "source": [
    "# The best output is OLS regression because it has the highest R-squared value while having the lowest MAE, MSE, RMSE and MAPE values."
   ]
  },
  {
   "cell_type": "code",
   "execution_count": null,
   "id": "68be94c4-31da-4309-bd76-88731e6e1075",
   "metadata": {},
   "outputs": [],
   "source": []
  }
 ],
 "metadata": {
  "kernelspec": {
   "display_name": "Python 3 (ipykernel)",
   "language": "python",
   "name": "python3"
  },
  "language_info": {
   "codemirror_mode": {
    "name": "ipython",
    "version": 3
   },
   "file_extension": ".py",
   "mimetype": "text/x-python",
   "name": "python",
   "nbconvert_exporter": "python",
   "pygments_lexer": "ipython3",
   "version": "3.11.5"
  }
 },
 "nbformat": 4,
 "nbformat_minor": 5
}
