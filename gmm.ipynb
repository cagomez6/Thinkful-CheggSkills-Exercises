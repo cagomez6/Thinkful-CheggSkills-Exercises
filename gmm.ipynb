{
 "cells": [
  {
   "cell_type": "code",
   "execution_count": 2,
   "id": "3b8d0152-55ec-4dc8-94dc-46259339b156",
   "metadata": {},
   "outputs": [],
   "source": [
    "import numpy as np\n",
    "import pandas as pd\n",
    "import matplotlib.pyplot as plt\n",
    "import seaborn as sns\n",
    "from sklearn.preprocessing import StandardScaler\n",
    "from sklearn.mixture import GaussianMixture\n",
    "from sklearn.decomposition import PCA\n",
    "from sklearn import metrics\n",
    "from sqlalchemy import create_engine\n",
    "import warnings\n",
    "warnings.filterwarnings(\"ignore\")"
   ]
  },
  {
   "cell_type": "code",
   "execution_count": 3,
   "id": "c88a8785-5759-4bfe-9741-7906a624e76c",
   "metadata": {},
   "outputs": [],
   "source": [
    "postgres_user = 'dsbc_student'\n",
    "postgres_pw = '7*.8G9QH21'\n",
    "postgres_host = '142.93.121.174'\n",
    "postgres_port = '5432'\n",
    "postgres_db = 'heartdisease'\n",
    "\n",
    "engine = create_engine('postgresql://{}:{}@{}:{}/{}'.format(\n",
    "    postgres_user, postgres_pw, postgres_host, postgres_port, postgres_db))\n",
    "heartdisease_df = pd.read_sql_query('select * from heartdisease',con=engine)\n",
    "\n",
    "# no need for an open connection, as we're only doing a single query\n",
    "engine.dispose()"
   ]
  },
  {
   "cell_type": "code",
   "execution_count": 4,
   "id": "8a7c7a2a-93c3-4a82-837e-2722e1e568fb",
   "metadata": {},
   "outputs": [],
   "source": [
    "# Define the features and the outcome\n",
    "X = heartdisease_df.iloc[:, :13]\n",
    "y = heartdisease_df.iloc[:, 13]\n",
    "\n",
    "# Replace missing values (marked by `?`) with a `0`\n",
    "X = X.replace(to_replace='?', value=0)\n",
    "\n",
    "# Binarize y so that `1` means heart disease diagnosis and `0` means no diagnosis\n",
    "y = np.where(y > 0,1, 0)\n",
    "\n",
    "# Standardize the data.\n",
    "scaler = StandardScaler()\n",
    "X_std = scaler.fit_transform(X)"
   ]
  },
  {
   "cell_type": "code",
   "execution_count": 5,
   "id": "8ecd2bcd-10a5-4cab-9d22-2d1e59f34049",
   "metadata": {},
   "outputs": [
    {
     "name": "stdout",
     "output_type": "stream",
     "text": [
      "ARI score: 0.18389186035089963\n",
      "Silhouette score: 0.13628813153331445\n"
     ]
    }
   ],
   "source": [
    "# Defining the agglomerative clustering\n",
    "gmm_cluster = GaussianMixture(n_components=2, random_state=123)\n",
    "\n",
    "# Fit model\n",
    "clusters = gmm_cluster.fit_predict(X_std)\n",
    "\n",
    "print(\"ARI score: {}\".format(\n",
    "    metrics.adjusted_rand_score(y, clusters)))\n",
    "\n",
    "print(\"Silhouette score: {}\".format(\n",
    "    metrics.silhouette_score(X_std, clusters, metric='euclidean')))"
   ]
  },
  {
   "cell_type": "markdown",
   "id": "2eba9c2b-6a76-4c46-84da-c96eda11540f",
   "metadata": {},
   "source": [
    "These scores indicate that gmm is less effective than the previous methods such as kmeans."
   ]
  },
  {
   "cell_type": "code",
   "execution_count": 6,
   "id": "bb11e150-18fd-48a2-af7a-3e70e5b0f9c9",
   "metadata": {},
   "outputs": [
    {
     "name": "stdout",
     "output_type": "stream",
     "text": [
      "ARI score with covariance_type=full: 0.18389186035089963\n",
      "Silhouette score with covariance_type=full: 0.13628813153331445\n",
      "------------------------------------------------------\n",
      "ARI score with covariance_type=tied: 0.18389186035089963\n",
      "Silhouette score with covariance_type=tied: 0.13628813153331445\n",
      "------------------------------------------------------\n",
      "ARI score with covariance_type=diag: 0.18389186035089963\n",
      "Silhouette score with covariance_type=diag: 0.13628813153331445\n",
      "------------------------------------------------------\n",
      "ARI score with covariance_type=spherical: 0.20765243525722468\n",
      "Silhouette score with covariance_type=spherical: 0.12468753110276873\n",
      "------------------------------------------------------\n"
     ]
    }
   ],
   "source": [
    "# Defining the agglomerative clustering\n",
    "gmm_cluster = GaussianMixture(n_components=2, random_state=123, covariance_type=\"full\")\n",
    "\n",
    "# Fit model\n",
    "clusters = gmm_cluster.fit_predict(X_std)\n",
    "\n",
    "print(\"ARI score with covariance_type=full: {}\".format(\n",
    "    metrics.adjusted_rand_score(y, clusters)))\n",
    "\n",
    "print(\"Silhouette score with covariance_type=full: {}\".format(\n",
    "    metrics.silhouette_score(X_std, clusters, metric='euclidean')))\n",
    "print(\"------------------------------------------------------\")\n",
    "\n",
    "# Defining the agglomerative clustering\n",
    "gmm_cluster = GaussianMixture(n_components=2, random_state=123, covariance_type=\"tied\")\n",
    "\n",
    "# Fit model\n",
    "clusters = gmm_cluster.fit_predict(X_std)\n",
    "\n",
    "print(\"ARI score with covariance_type=tied: {}\".format(\n",
    "    metrics.adjusted_rand_score(y, clusters)))\n",
    "\n",
    "print(\"Silhouette score with covariance_type=tied: {}\".format(\n",
    "    metrics.silhouette_score(X_std, clusters, metric='euclidean')))\n",
    "print(\"------------------------------------------------------\")\n",
    "\n",
    "# Defining the agglomerative clustering\n",
    "gmm_cluster = GaussianMixture(n_components=2, random_state=123, covariance_type=\"diag\")\n",
    "\n",
    "# Fit model\n",
    "clusters = gmm_cluster.fit_predict(X_std)\n",
    "\n",
    "print(\"ARI score with covariance_type=diag: {}\".format(\n",
    "    metrics.adjusted_rand_score(y, clusters)))\n",
    "\n",
    "print(\"Silhouette score with covariance_type=diag: {}\".format(\n",
    "    metrics.silhouette_score(X_std, clusters, metric='euclidean')))\n",
    "print(\"------------------------------------------------------\")\n",
    "\n",
    "\n",
    "# Defining the agglomerative clustering\n",
    "gmm_cluster = GaussianMixture(n_components=2, random_state=123, covariance_type=\"spherical\")\n",
    "\n",
    "# Fit model\n",
    "clusters = gmm_cluster.fit_predict(X_std)\n",
    "\n",
    "print(\"ARI score with covariance_type=spherical: {}\".format(\n",
    "    metrics.adjusted_rand_score(y, clusters)))\n",
    "\n",
    "print(\"Silhouette score with covariance_type=spherical: {}\".format(\n",
    "    metrics.silhouette_score(X_std, clusters, metric='euclidean')))\n",
    "print(\"------------------------------------------------------\")"
   ]
  },
  {
   "cell_type": "markdown",
   "id": "71dc6057-48f0-4a2f-9872-b884d2a2a8de",
   "metadata": {},
   "source": [
    "Spherical seems to have the highest ARI score, but it is untrue for silhouette score."
   ]
  },
  {
   "cell_type": "code",
   "execution_count": null,
   "id": "0c06777d-f334-4cab-8745-9c1ca4eee448",
   "metadata": {},
   "outputs": [],
   "source": []
  }
 ],
 "metadata": {
  "kernelspec": {
   "display_name": "Python 3 (ipykernel)",
   "language": "python",
   "name": "python3"
  },
  "language_info": {
   "codemirror_mode": {
    "name": "ipython",
    "version": 3
   },
   "file_extension": ".py",
   "mimetype": "text/x-python",
   "name": "python",
   "nbconvert_exporter": "python",
   "pygments_lexer": "ipython3",
   "version": "3.11.5"
  }
 },
 "nbformat": 4,
 "nbformat_minor": 5
}
