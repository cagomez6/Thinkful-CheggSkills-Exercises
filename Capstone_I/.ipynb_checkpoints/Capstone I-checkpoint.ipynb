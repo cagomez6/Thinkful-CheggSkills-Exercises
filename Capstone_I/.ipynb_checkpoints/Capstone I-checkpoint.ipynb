{
 "cells": [
  {
   "cell_type": "markdown",
   "id": "b9977065",
   "metadata": {},
   "source": [
    "<h1>1. Introduction</h1>\n",
    "\n",
    "Businesses need their employees, without them a business will cease to function and fail to provide the services that rake in revenue and keep the business afloat. When an employee leaves the company, resources such as time and money are used to list the position, interview and train a new employee. Due to a delicate balance between the employees’ and the company’s interests, it is worth it to take the time and analyze the data to maximize profits while retaining employees. \n",
    "\n",
    "For this experiment, I will focus on the question of whether or not salary has an impact on employee satisfaction level because it is one of the first things to come up in the employment process via a job offer.\n"
   ]
  },
  {
   "cell_type": "markdown",
   "id": "8a7fe48a",
   "metadata": {},
   "source": [
    "<h1>2. Hypothesis</h1>\n",
    "\n",
    "**H₀:** Salary has no significant impact on the average satisfaction level of employees.\n",
    "\n",
    "    \n",
    "**Hₐ:** Salary has a significant impact on the average satisfaction level of employees."
   ]
  },
  {
   "cell_type": "markdown",
   "id": "c6f2daca",
   "metadata": {},
   "source": [
    "<h1>3. Data</h1>\n",
    "\n",
    "The dataset is from <a href=\"https://www.kaggle.com/datasets/redpen12/employees-satisfaction-analysis/data\">Kaggel</a>. This dataset includes 15,787 entries each with 10 columns attached to each one, including their employee ID, satisfaction level and other information of their employment. As of this experiment, there are no null entries or missing values.\n"
   ]
  },
  {
   "cell_type": "code",
   "execution_count": 1,
   "id": "b410990b",
   "metadata": {},
   "outputs": [],
   "source": [
    "%matplotlib inline\n",
    "import pandas as pd\n",
    "import numpy as np\n",
    "import matplotlib.pyplot as plt\n",
    "from scipy import stats"
   ]
  },
  {
   "cell_type": "code",
   "execution_count": 6,
   "id": "94d2f580",
   "metadata": {},
   "outputs": [
    {
     "name": "stdout",
     "output_type": "stream",
     "text": [
      "<class 'pandas.core.frame.DataFrame'>\n",
      "RangeIndex: 15787 entries, 0 to 15786\n",
      "Data columns (total 10 columns):\n",
      " #   Column                 Non-Null Count  Dtype  \n",
      "---  ------                 --------------  -----  \n",
      " 0   Emp ID                 14999 non-null  float64\n",
      " 1   satisfaction_level     14999 non-null  float64\n",
      " 2   last_evaluation        14999 non-null  float64\n",
      " 3   number_project         14999 non-null  float64\n",
      " 4   average_montly_hours   14999 non-null  float64\n",
      " 5   time_spend_company     14999 non-null  float64\n",
      " 6   Work_accident          14999 non-null  float64\n",
      " 7   promotion_last_5years  14999 non-null  float64\n",
      " 8   dept                   14999 non-null  object \n",
      " 9   salary                 14999 non-null  object \n",
      "dtypes: float64(8), object(2)\n",
      "memory usage: 1.2+ MB\n"
     ]
    },
    {
     "data": {
      "text/html": [
       "<div>\n",
       "<style scoped>\n",
       "    .dataframe tbody tr th:only-of-type {\n",
       "        vertical-align: middle;\n",
       "    }\n",
       "\n",
       "    .dataframe tbody tr th {\n",
       "        vertical-align: top;\n",
       "    }\n",
       "\n",
       "    .dataframe thead th {\n",
       "        text-align: right;\n",
       "    }\n",
       "</style>\n",
       "<table border=\"1\" class=\"dataframe\">\n",
       "  <thead>\n",
       "    <tr style=\"text-align: right;\">\n",
       "      <th></th>\n",
       "      <th>Emp ID</th>\n",
       "      <th>satisfaction_level</th>\n",
       "      <th>last_evaluation</th>\n",
       "      <th>number_project</th>\n",
       "      <th>average_montly_hours</th>\n",
       "      <th>time_spend_company</th>\n",
       "      <th>Work_accident</th>\n",
       "      <th>promotion_last_5years</th>\n",
       "      <th>dept</th>\n",
       "      <th>salary</th>\n",
       "    </tr>\n",
       "  </thead>\n",
       "  <tbody>\n",
       "    <tr>\n",
       "      <th>0</th>\n",
       "      <td>1.0</td>\n",
       "      <td>0.38</td>\n",
       "      <td>0.53</td>\n",
       "      <td>2.0</td>\n",
       "      <td>157.0</td>\n",
       "      <td>3.0</td>\n",
       "      <td>0.0</td>\n",
       "      <td>0.0</td>\n",
       "      <td>sales</td>\n",
       "      <td>low</td>\n",
       "    </tr>\n",
       "    <tr>\n",
       "      <th>1</th>\n",
       "      <td>2.0</td>\n",
       "      <td>0.80</td>\n",
       "      <td>0.86</td>\n",
       "      <td>5.0</td>\n",
       "      <td>262.0</td>\n",
       "      <td>6.0</td>\n",
       "      <td>0.0</td>\n",
       "      <td>0.0</td>\n",
       "      <td>sales</td>\n",
       "      <td>medium</td>\n",
       "    </tr>\n",
       "    <tr>\n",
       "      <th>2</th>\n",
       "      <td>3.0</td>\n",
       "      <td>0.11</td>\n",
       "      <td>0.88</td>\n",
       "      <td>7.0</td>\n",
       "      <td>272.0</td>\n",
       "      <td>4.0</td>\n",
       "      <td>0.0</td>\n",
       "      <td>0.0</td>\n",
       "      <td>sales</td>\n",
       "      <td>medium</td>\n",
       "    </tr>\n",
       "    <tr>\n",
       "      <th>3</th>\n",
       "      <td>4.0</td>\n",
       "      <td>0.72</td>\n",
       "      <td>0.87</td>\n",
       "      <td>5.0</td>\n",
       "      <td>223.0</td>\n",
       "      <td>5.0</td>\n",
       "      <td>0.0</td>\n",
       "      <td>0.0</td>\n",
       "      <td>sales</td>\n",
       "      <td>low</td>\n",
       "    </tr>\n",
       "    <tr>\n",
       "      <th>4</th>\n",
       "      <td>5.0</td>\n",
       "      <td>0.37</td>\n",
       "      <td>0.52</td>\n",
       "      <td>2.0</td>\n",
       "      <td>159.0</td>\n",
       "      <td>3.0</td>\n",
       "      <td>0.0</td>\n",
       "      <td>0.0</td>\n",
       "      <td>sales</td>\n",
       "      <td>low</td>\n",
       "    </tr>\n",
       "  </tbody>\n",
       "</table>\n",
       "</div>"
      ],
      "text/plain": [
       "   Emp ID  satisfaction_level  last_evaluation  number_project  \\\n",
       "0     1.0                0.38             0.53             2.0   \n",
       "1     2.0                0.80             0.86             5.0   \n",
       "2     3.0                0.11             0.88             7.0   \n",
       "3     4.0                0.72             0.87             5.0   \n",
       "4     5.0                0.37             0.52             2.0   \n",
       "\n",
       "   average_montly_hours  time_spend_company  Work_accident  \\\n",
       "0                 157.0                 3.0            0.0   \n",
       "1                 262.0                 6.0            0.0   \n",
       "2                 272.0                 4.0            0.0   \n",
       "3                 223.0                 5.0            0.0   \n",
       "4                 159.0                 3.0            0.0   \n",
       "\n",
       "   promotion_last_5years   dept  salary  \n",
       "0                    0.0  sales     low  \n",
       "1                    0.0  sales  medium  \n",
       "2                    0.0  sales  medium  \n",
       "3                    0.0  sales     low  \n",
       "4                    0.0  sales     low  "
      ]
     },
     "execution_count": 6,
     "metadata": {},
     "output_type": "execute_result"
    }
   ],
   "source": [
    "attr = pd.read_csv(\"Employee Attrition.csv\")\n",
    "\n",
    "attr.info()\n",
    "attr.head()"
   ]
  },
  {
   "cell_type": "code",
   "execution_count": null,
   "id": "24be2c04",
   "metadata": {},
   "outputs": [],
   "source": []
  },
  {
   "cell_type": "code",
   "execution_count": 12,
   "id": "7bbfba4f",
   "metadata": {},
   "outputs": [
    {
     "name": "stdout",
     "output_type": "stream",
     "text": [
      "<class 'pandas.core.frame.DataFrame'>\n",
      "Index: 7316 entries, 0 to 15786\n",
      "Data columns (total 10 columns):\n",
      " #   Column                 Non-Null Count  Dtype  \n",
      "---  ------                 --------------  -----  \n",
      " 0   Emp ID                 7316 non-null   float64\n",
      " 1   satisfaction_level     7316 non-null   float64\n",
      " 2   last_evaluation        7316 non-null   float64\n",
      " 3   number_project         7316 non-null   float64\n",
      " 4   average_montly_hours   7316 non-null   float64\n",
      " 5   time_spend_company     7316 non-null   float64\n",
      " 6   Work_accident          7316 non-null   float64\n",
      " 7   promotion_last_5years  7316 non-null   float64\n",
      " 8   dept                   7316 non-null   object \n",
      " 9   salary                 7316 non-null   object \n",
      "dtypes: float64(8), object(2)\n",
      "memory usage: 628.7+ KB\n",
      "<class 'pandas.core.frame.DataFrame'>\n",
      "Index: 6446 entries, 1 to 15773\n",
      "Data columns (total 10 columns):\n",
      " #   Column                 Non-Null Count  Dtype  \n",
      "---  ------                 --------------  -----  \n",
      " 0   Emp ID                 6446 non-null   float64\n",
      " 1   satisfaction_level     6446 non-null   float64\n",
      " 2   last_evaluation        6446 non-null   float64\n",
      " 3   number_project         6446 non-null   float64\n",
      " 4   average_montly_hours   6446 non-null   float64\n",
      " 5   time_spend_company     6446 non-null   float64\n",
      " 6   Work_accident          6446 non-null   float64\n",
      " 7   promotion_last_5years  6446 non-null   float64\n",
      " 8   dept                   6446 non-null   object \n",
      " 9   salary                 6446 non-null   object \n",
      "dtypes: float64(8), object(2)\n",
      "memory usage: 554.0+ KB\n",
      "<class 'pandas.core.frame.DataFrame'>\n",
      "Index: 1237 entries, 72 to 15768\n",
      "Data columns (total 10 columns):\n",
      " #   Column                 Non-Null Count  Dtype  \n",
      "---  ------                 --------------  -----  \n",
      " 0   Emp ID                 1237 non-null   float64\n",
      " 1   satisfaction_level     1237 non-null   float64\n",
      " 2   last_evaluation        1237 non-null   float64\n",
      " 3   number_project         1237 non-null   float64\n",
      " 4   average_montly_hours   1237 non-null   float64\n",
      " 5   time_spend_company     1237 non-null   float64\n",
      " 6   Work_accident          1237 non-null   float64\n",
      " 7   promotion_last_5years  1237 non-null   float64\n",
      " 8   dept                   1237 non-null   object \n",
      " 9   salary                 1237 non-null   object \n",
      "dtypes: float64(8), object(2)\n",
      "memory usage: 106.3+ KB\n"
     ]
    }
   ],
   "source": [
    "salary_low = attr[attr['salary'] == 'low']\n",
    "salary_low.info()\n",
    "salary_medium = attr[attr['salary'] == 'medium']\n",
    "salary_medium.info()\n",
    "salary_high = attr[attr['salary'] == 'high']\n",
    "salary_high.info()"
   ]
  },
  {
   "cell_type": "code",
   "execution_count": 16,
   "id": "81c2b090",
   "metadata": {},
   "outputs": [
    {
     "data": {
      "text/plain": [
       "(array([ 68.,  51.,  37.,  89., 149., 179., 168., 190., 153., 153.]),\n",
       " array([0.09 , 0.181, 0.272, 0.363, 0.454, 0.545, 0.636, 0.727, 0.818,\n",
       "        0.909, 1.   ]),\n",
       " <BarContainer object of 10 artists>)"
      ]
     },
     "execution_count": 16,
     "metadata": {},
     "output_type": "execute_result"
    },
    {
     "data": {
      "image/png": "[encoded data removed]",
      "text/plain": [
       "<Figure size 640x480 with 1 Axes>"
      ]
     },
     "metadata": {},
     "output_type": "display_data"
    }
   ],
   "source": [
    "plt.hist(salary_low['satisfaction_level'], alpha = .5)\n",
    "plt.hist(salary_medium['satisfaction_level'], alpha = .5)\n",
    "plt.hist(salary_high['satisfaction_level'], alpha = .5)"
   ]
  },
  {
   "cell_type": "code",
   "execution_count": 14,
   "id": "fab680ad",
   "metadata": {},
   "outputs": [
    {
     "name": "stdout",
     "output_type": "stream",
     "text": [
      "DescribeResult(nobs=7316, minmax=(0.09, 1.0), mean=0.6007531437944232, variance=0.06481798361964357, skewness=-0.41925115576128924, kurtosis=-0.7971483568009528)\n",
      "DescribeResult(nobs=6446, minmax=(0.09, 1.0), mean=0.6218166304685075, variance=0.060058871568225564, skewness=-0.523656088655336, kurtosis=-0.5665786319276251)\n",
      "DescribeResult(nobs=1237, minmax=(0.09, 1.0), mean=0.6374696847210994, variance=0.05143428811745715, skewness=-0.5185390617921732, kurtosis=-0.41107219701494246)\n"
     ]
    }
   ],
   "source": [
    "print(stats.describe(salary_low['satisfaction_level']))\n",
    "print(stats.describe(salary_medium['satisfaction_level']))\n",
    "print(stats.describe(salary_high['satisfaction_level']))"
   ]
  },
  {
   "cell_type": "code",
   "execution_count": null,
   "id": "97ba65ae",
   "metadata": {},
   "outputs": [],
   "source": []
  }
 ],
 "metadata": {
  "kernelspec": {
   "display_name": "Python 3 (ipykernel)",
   "language": "python",
   "name": "python3"
  },
  "language_info": {
   "codemirror_mode": {
    "name": "ipython",
    "version": 3
   },
   "file_extension": ".py",
   "mimetype": "text/x-python",
   "name": "python",
   "nbconvert_exporter": "python",
   "pygments_lexer": "ipython3",
   "version": "3.11.5"
  }
 },
 "nbformat": 4,
 "nbformat_minor": 5
}
